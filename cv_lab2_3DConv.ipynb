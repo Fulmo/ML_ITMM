{
  "nbformat": 4,
  "nbformat_minor": 0,
  "metadata": {
    "colab": {
      "name": "cv_lab2-3DConv.ipynb",
      "provenance": [],
      "collapsed_sections": [],
      "include_colab_link": true
    },
    "kernelspec": {
      "name": "python3",
      "display_name": "Python 3"
    }
  },
  "cells": [
    {
      "cell_type": "markdown",
      "metadata": {
        "id": "view-in-github",
        "colab_type": "text"
      },
      "source": [
        "<a href=\"https://colab.research.google.com/github/Fulmo/ML_ITMM/blob/master/cv_lab2_3DConv.ipynb\" target=\"_parent\"><img src=\"https://colab.research.google.com/assets/colab-badge.svg\" alt=\"Open In Colab\"/></a>"
      ]
    },
    {
      "cell_type": "code",
      "metadata": {
        "id": "elMpQfrudnSE",
        "colab_type": "code",
        "colab": {}
      },
      "source": [
        "import numpy as np"
      ],
      "execution_count": 0,
      "outputs": []
    },
    {
      "cell_type": "code",
      "metadata": {
        "id": "21XTJ3wygQlb",
        "colab_type": "code",
        "colab": {}
      },
      "source": [
        "def Conv3D(input_shape: np.array, kernel: np.array):\n",
        "  _X    = 0\n",
        "  _Y    = 0\n",
        "\n",
        "  dimX = 1\n",
        "  dimY = 1\n",
        "  conv_shape = np.zeros(shape=[len(kernel),len(kernel[0]),len(kernel[0][0])], dtype=np.uint8)\n",
        "\n",
        "  for i in range(0, len(input_shape)-len(kernel)+1, dimX):\n",
        "    for j in range(0, len(input_shape[0])-len(kernel[0])+1, dimY):\n",
        "      output = 0\n",
        "      for x in range(len(kernel)):\n",
        "        for y in range(len(kernel[0])):\n",
        "          for z in range(len(kernel[0][0])):\n",
        "            output = output + input_shape[x+i, y+j]*kernel[x, y]      \n",
        "      conv_shape[_X, _Y] = output\n",
        "      _Y = _Y + 1\n",
        "    _X = _X + 1\n",
        "    _Y=0\n",
        "  return conv_shape"
      ],
      "execution_count": 0,
      "outputs": []
    },
    {
      "cell_type": "code",
      "metadata": {
        "id": "0Um1JrbLduaA",
        "colab_type": "code",
        "colab": {}
      },
      "source": [
        "data_shape = np.ones((3,3))\n",
        "data_shape\n",
        "data_shape = data_shape.astype(np.int32)"
      ],
      "execution_count": 0,
      "outputs": []
    },
    {
      "cell_type": "code",
      "metadata": {
        "id": "kOuZglvNeZvu",
        "colab_type": "code",
        "outputId": "50ea10d1-212a-4853-b3df-5ffd4f0e7485",
        "colab": {
          "base_uri": "https://localhost:8080/",
          "height": 109
        }
      },
      "source": [
        "kernel = np.array([ [[1, 1], [1, 1]], \n",
        "                      [[1, 1], [1, 1]]\n",
        "                    ], np.int32)\n",
        "kernel"
      ],
      "execution_count": 0,
      "outputs": [
        {
          "output_type": "execute_result",
          "data": {
            "text/plain": [
              "array([[[1, 1],\n",
              "        [1, 1]],\n",
              "\n",
              "       [[1, 1],\n",
              "        [1, 1]]], dtype=int32)"
            ]
          },
          "metadata": {
            "tags": []
          },
          "execution_count": 99
        }
      ]
    },
    {
      "cell_type": "code",
      "metadata": {
        "id": "uyePbyCxt4H-",
        "colab_type": "code",
        "outputId": "630be2b0-95b6-43a8-e3b7-e41e0c66fa7a",
        "colab": {
          "base_uri": "https://localhost:8080/",
          "height": 109
        }
      },
      "source": [
        "print(Conv3D(data_shape, kernel = kernel))"
      ],
      "execution_count": 0,
      "outputs": [
        {
          "output_type": "stream",
          "text": [
            "[[[8 8]\n",
            "  [8 8]]\n",
            "\n",
            " [[8 8]\n",
            "  [8 8]]]\n"
          ],
          "name": "stdout"
        }
      ]
    },
    {
      "cell_type": "code",
      "metadata": {
        "id": "oR90MgBDsw_e",
        "colab_type": "code",
        "outputId": "3427ccd3-4a55-4ea3-c610-85af4fab5cb9",
        "colab": {
          "base_uri": "https://localhost:8080/",
          "height": 72
        }
      },
      "source": [
        "input_shape = np.random.rand(3, 3)\n",
        "input_shape"
      ],
      "execution_count": 0,
      "outputs": [
        {
          "output_type": "execute_result",
          "data": {
            "text/plain": [
              "array([[0.62642314, 0.38362001, 0.41565618],\n",
              "       [0.79198026, 0.44746767, 0.4389996 ],\n",
              "       [0.15222564, 0.65350964, 0.50361766]])"
            ]
          },
          "metadata": {
            "tags": []
          },
          "execution_count": 101
        }
      ]
    },
    {
      "cell_type": "code",
      "metadata": {
        "id": "W8g-jF4LuJNI",
        "colab_type": "code",
        "colab": {}
      },
      "source": [
        "kernel_new = np.array([ [[3, 2], [1, 5]], \n",
        "                      [[6, 3], [4, 3]]\n",
        "                    ], np.int32)"
      ],
      "execution_count": 0,
      "outputs": []
    },
    {
      "cell_type": "code",
      "metadata": {
        "id": "og8wzISyuDHm",
        "colab_type": "code",
        "outputId": "91756392-1d27-4dd5-efa1-8d03e4e627ad",
        "colab": {
          "base_uri": "https://localhost:8080/",
          "height": 109
        }
      },
      "source": [
        "print(Conv3D(input_shape, kernel_new))"
      ],
      "execution_count": 0,
      "outputs": [
        {
          "output_type": "stream",
          "text": [
            "[[[17 13]\n",
            "  [12 11]]\n",
            "\n",
            " [[12 12]\n",
            "  [15 13]]]\n"
          ],
          "name": "stdout"
        }
      ]
    }
  ]
}